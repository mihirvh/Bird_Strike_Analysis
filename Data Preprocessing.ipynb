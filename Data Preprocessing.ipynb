{
 "cells": [
  {
   "cell_type": "code",
   "execution_count": 3,
   "id": "dfa87c72-7a7b-41e7-9935-94bea09b1187",
   "metadata": {},
   "outputs": [],
   "source": [
    "import pandas as pd\n",
    "import numpy as np\n",
    "import warnings\n",
    "warnings.filterwarnings('ignore')"
   ]
  },
  {
   "cell_type": "code",
   "execution_count": 5,
   "id": "618e211b-f054-4f32-b8d4-f3581a7fff53",
   "metadata": {},
   "outputs": [],
   "source": [
    "df = pd.read_excel('DS1_C7_S4_Project_BirdStrike_Data.xlsx')"
   ]
  },
  {
   "cell_type": "code",
   "execution_count": 9,
   "id": "75c828a9-a775-41e1-8b24-024d61b29342",
   "metadata": {},
   "outputs": [
    {
     "data": {
      "text/plain": [
       "Index(['Record ID', 'Aircraft: Type', 'Airport: Name', 'Altitude bin',\n",
       "       'Aircraft: Make/Model', 'Wildlife: Number struck',\n",
       "       'Wildlife: Number Struck Actual', 'Effect: Impact to flight',\n",
       "       'FlightDate', 'Effect: Indicated Damage',\n",
       "       'Aircraft: Number of engines?', 'Aircraft: Airline/Operator',\n",
       "       'Origin State', 'When: Phase of flight', 'Conditions: Precipitation',\n",
       "       'Remains of wildlife collected?',\n",
       "       'Remains of wildlife sent to Smithsonian', 'Remarks', 'Wildlife: Size',\n",
       "       'Conditions: Sky', 'Wildlife: Species',\n",
       "       'Pilot warned of birds or wildlife?', 'Cost: Total $',\n",
       "       'Feet above ground', 'Number of people injured', 'Is Aircraft Large?'],\n",
       "      dtype='object')"
      ]
     },
     "execution_count": 9,
     "metadata": {},
     "output_type": "execute_result"
    }
   ],
   "source": [
    "df.columns"
   ]
  },
  {
   "cell_type": "code",
   "execution_count": 13,
   "id": "33da7c82-698a-4489-bca3-1199b29ac213",
   "metadata": {},
   "outputs": [],
   "source": [
    "df.set_index('Record ID', inplace = True)"
   ]
  },
  {
   "cell_type": "code",
   "execution_count": 21,
   "id": "7434981c-ff30-41b8-b856-73c9df00e15d",
   "metadata": {
    "scrolled": true
   },
   "outputs": [
    {
     "data": {
      "text/plain": [
       "Aircraft: Type                               129\n",
       "Airport: Name                                129\n",
       "Altitude bin                                 129\n",
       "Aircraft: Make/Model                           0\n",
       "Wildlife: Number struck                      129\n",
       "Wildlife: Number Struck Actual                 0\n",
       "Effect: Impact to flight                   23480\n",
       "FlightDate                                   129\n",
       "Effect: Indicated Damage                       0\n",
       "Aircraft: Number of engines?                 267\n",
       "Aircraft: Airline/Operator                   129\n",
       "Origin State                                 449\n",
       "When: Phase of flight                        129\n",
       "Conditions: Precipitation                  23543\n",
       "Remains of wildlife collected?                 0\n",
       "Remains of wildlife sent to Smithsonian        0\n",
       "Remarks                                     4771\n",
       "Wildlife: Size                               129\n",
       "Conditions: Sky                                0\n",
       "Wildlife: Species                              0\n",
       "Pilot warned of birds or wildlife?           129\n",
       "Cost: Total $                                  0\n",
       "Feet above ground                            129\n",
       "Number of people injured                       0\n",
       "Is Aircraft Large?                           129\n",
       "dtype: int64"
      ]
     },
     "execution_count": 21,
     "metadata": {},
     "output_type": "execute_result"
    }
   ],
   "source": [
    "df.isnull().sum()"
   ]
  },
  {
   "cell_type": "code",
   "execution_count": 23,
   "id": "40f92ecf-1f00-4a6e-beae-2a40bdf13d91",
   "metadata": {
    "scrolled": true
   },
   "outputs": [
    {
     "name": "stdout",
     "output_type": "stream",
     "text": [
      "<class 'pandas.core.frame.DataFrame'>\n",
      "Index: 25558 entries, 202152 to 319593\n",
      "Data columns (total 25 columns):\n",
      " #   Column                                   Non-Null Count  Dtype         \n",
      "---  ------                                   --------------  -----         \n",
      " 0   Aircraft: Type                           25429 non-null  object        \n",
      " 1   Airport: Name                            25429 non-null  object        \n",
      " 2   Altitude bin                             25429 non-null  object        \n",
      " 3   Aircraft: Make/Model                     25558 non-null  object        \n",
      " 4   Wildlife: Number struck                  25429 non-null  object        \n",
      " 5   Wildlife: Number Struck Actual           25558 non-null  int64         \n",
      " 6   Effect: Impact to flight                 2078 non-null   object        \n",
      " 7   FlightDate                               25429 non-null  datetime64[ns]\n",
      " 8   Effect: Indicated Damage                 25558 non-null  object        \n",
      " 9   Aircraft: Number of engines?             25291 non-null  object        \n",
      " 10  Aircraft: Airline/Operator               25429 non-null  object        \n",
      " 11  Origin State                             25109 non-null  object        \n",
      " 12  When: Phase of flight                    25429 non-null  object        \n",
      " 13  Conditions: Precipitation                2015 non-null   object        \n",
      " 14  Remains of wildlife collected?           25558 non-null  bool          \n",
      " 15  Remains of wildlife sent to Smithsonian  25558 non-null  bool          \n",
      " 16  Remarks                                  20787 non-null  object        \n",
      " 17  Wildlife: Size                           25429 non-null  object        \n",
      " 18  Conditions: Sky                          25558 non-null  object        \n",
      " 19  Wildlife: Species                        25558 non-null  object        \n",
      " 20  Pilot warned of birds or wildlife?       25429 non-null  object        \n",
      " 21  Cost: Total $                            25558 non-null  int64         \n",
      " 22  Feet above ground                        25429 non-null  float64       \n",
      " 23  Number of people injured                 25558 non-null  int64         \n",
      " 24  Is Aircraft Large?                       25429 non-null  object        \n",
      "dtypes: bool(2), datetime64[ns](1), float64(1), int64(3), object(18)\n",
      "memory usage: 4.7+ MB\n"
     ]
    }
   ],
   "source": [
    "df.info()"
   ]
  },
  {
   "cell_type": "code",
   "execution_count": 33,
   "id": "795520cd-1f2d-4f49-825a-db4682faa78b",
   "metadata": {},
   "outputs": [
    {
     "data": {
      "text/plain": [
       "Index(['Wildlife: Number Struck Actual', 'Cost: Total $', 'Feet above ground',\n",
       "       'Number of people injured'],\n",
       "      dtype='object')"
      ]
     },
     "execution_count": 33,
     "metadata": {},
     "output_type": "execute_result"
    }
   ],
   "source": [
    "numerical = df.select_dtypes(include = ['int64', 'float64']).columns\n",
    "numerical"
   ]
  },
  {
   "cell_type": "code",
   "execution_count": 35,
   "id": "40222af3-abcf-4d3e-b23d-829ef31152c6",
   "metadata": {},
   "outputs": [
    {
     "data": {
      "text/plain": [
       "Index(['Aircraft: Type', 'Airport: Name', 'Altitude bin',\n",
       "       'Aircraft: Make/Model', 'Wildlife: Number struck',\n",
       "       'Effect: Impact to flight', 'Effect: Indicated Damage',\n",
       "       'Aircraft: Number of engines?', 'Aircraft: Airline/Operator',\n",
       "       'Origin State', 'When: Phase of flight', 'Conditions: Precipitation',\n",
       "       'Remarks', 'Wildlife: Size', 'Conditions: Sky', 'Wildlife: Species',\n",
       "       'Pilot warned of birds or wildlife?', 'Is Aircraft Large?'],\n",
       "      dtype='object')"
      ]
     },
     "execution_count": 35,
     "metadata": {},
     "output_type": "execute_result"
    }
   ],
   "source": [
    "categorical = df.select_dtypes(include = 'object').columns\n",
    "categorical"
   ]
  },
  {
   "cell_type": "code",
   "execution_count": 39,
   "id": "bdb532b4-63f8-4f38-9796-a61fbae1851f",
   "metadata": {},
   "outputs": [
    {
     "data": {
      "text/plain": [
       "Wildlife: Number Struck Actual      0\n",
       "Cost: Total $                       0\n",
       "Feet above ground                 129\n",
       "Number of people injured            0\n",
       "dtype: int64"
      ]
     },
     "execution_count": 39,
     "metadata": {},
     "output_type": "execute_result"
    }
   ],
   "source": [
    "df[numerical].isnull().sum()"
   ]
  },
  {
   "cell_type": "code",
   "execution_count": 37,
   "id": "89e2379d-6ab2-4afb-98d5-e9eb7105fb0b",
   "metadata": {},
   "outputs": [
    {
     "data": {
      "text/plain": [
       "Index(['Wildlife: Number Struck Actual', 'Cost: Total $', 'Feet above ground',\n",
       "       'Number of people injured'],\n",
       "      dtype='object')"
      ]
     },
     "execution_count": 37,
     "metadata": {},
     "output_type": "execute_result"
    }
   ],
   "source": [
    "numerical "
   ]
  },
  {
   "cell_type": "code",
   "execution_count": 49,
   "id": "ce11afc0-cc8b-46b6-9e82-69682ac6f41c",
   "metadata": {},
   "outputs": [
    {
     "name": "stdout",
     "output_type": "stream",
     "text": [
      "Columns with outliers: ['Wildlife: Number Struck Actual', 'Cost: Total $', 'Feet above ground', 'Number of people injured']\n"
     ]
    }
   ],
   "source": [
    "def find_outliers(df):\n",
    "    outlier_columns = []\n",
    "    for column in numerical:\n",
    "        Q1 = df[column].quantile(0.25)\n",
    "        Q3 = df[column].quantile(0.75)\n",
    "        IQR = Q3 - Q1\n",
    "        lower_bound = Q1 - 1.5 * IQR\n",
    "        upper_bound = Q3 + 1.5 * IQR\n",
    "        if ((df[column] < lower_bound) | (df[column] > upper_bound)).any():\n",
    "            outlier_columns.append(column)\n",
    "    return outlier_columns\n",
    "    \n",
    "outlier_columns = find_outliers(df)\n",
    "print(\"Columns with outliers:\", outlier_columns)"
   ]
  },
  {
   "cell_type": "code",
   "execution_count": 47,
   "id": "5a631127-99ab-4c9a-9867-7a5e927c995d",
   "metadata": {},
   "outputs": [
    {
     "data": {
      "text/plain": [
       "50.0"
      ]
     },
     "execution_count": 47,
     "metadata": {},
     "output_type": "execute_result"
    }
   ],
   "source": [
    "df['Feet above ground'].median()"
   ]
  },
  {
   "cell_type": "code",
   "execution_count": 53,
   "id": "fc0568ef-a985-4747-b1bd-17af2427a949",
   "metadata": {},
   "outputs": [],
   "source": [
    "df['Feet above ground'].fillna(df['Feet above ground'].median(), inplace = True)"
   ]
  },
  {
   "cell_type": "code",
   "execution_count": 55,
   "id": "7c076a91-41f5-43a2-9de3-83c714117cd4",
   "metadata": {},
   "outputs": [
    {
     "data": {
      "text/plain": [
       "0"
      ]
     },
     "execution_count": 55,
     "metadata": {},
     "output_type": "execute_result"
    }
   ],
   "source": [
    "df['Feet above ground'].isnull().sum()"
   ]
  },
  {
   "cell_type": "code",
   "execution_count": 57,
   "id": "2d3d3514-3208-4471-8bae-20b0d6fd7897",
   "metadata": {},
   "outputs": [
    {
     "data": {
      "text/plain": [
       "Aircraft: Type                          129\n",
       "Airport: Name                           129\n",
       "Altitude bin                            129\n",
       "Aircraft: Make/Model                      0\n",
       "Wildlife: Number struck                 129\n",
       "Effect: Impact to flight              23480\n",
       "Effect: Indicated Damage                  0\n",
       "Aircraft: Number of engines?            267\n",
       "Aircraft: Airline/Operator              129\n",
       "Origin State                            449\n",
       "When: Phase of flight                   129\n",
       "Conditions: Precipitation             23543\n",
       "Remarks                                4771\n",
       "Wildlife: Size                          129\n",
       "Conditions: Sky                           0\n",
       "Wildlife: Species                         0\n",
       "Pilot warned of birds or wildlife?      129\n",
       "Is Aircraft Large?                      129\n",
       "dtype: int64"
      ]
     },
     "execution_count": 57,
     "metadata": {},
     "output_type": "execute_result"
    }
   ],
   "source": [
    "df[categorical].isnull().sum()"
   ]
  },
  {
   "cell_type": "code",
   "execution_count": 83,
   "id": "69c20fea-974f-4987-b15b-f99423867e14",
   "metadata": {},
   "outputs": [],
   "source": [
    "def fill_missing_values(df):\n",
    "    for i in categorical:\n",
    "        mode = df[i].mode()[0]\n",
    "        df[i].fillna(mode, inplace = True)\n",
    "fill_missing_values(df)"
   ]
  },
  {
   "cell_type": "code",
   "execution_count": 85,
   "id": "bf75b88c-3248-4d9a-a66d-07e59f136256",
   "metadata": {},
   "outputs": [
    {
     "data": {
      "text/plain": [
       "Aircraft: Type                        0\n",
       "Airport: Name                         0\n",
       "Altitude bin                          0\n",
       "Aircraft: Make/Model                  0\n",
       "Wildlife: Number struck               0\n",
       "Effect: Impact to flight              0\n",
       "Effect: Indicated Damage              0\n",
       "Aircraft: Number of engines?          0\n",
       "Aircraft: Airline/Operator            0\n",
       "Origin State                          0\n",
       "When: Phase of flight                 0\n",
       "Conditions: Precipitation             0\n",
       "Remarks                               0\n",
       "Wildlife: Size                        0\n",
       "Conditions: Sky                       0\n",
       "Wildlife: Species                     0\n",
       "Pilot warned of birds or wildlife?    0\n",
       "Is Aircraft Large?                    0\n",
       "dtype: int64"
      ]
     },
     "execution_count": 85,
     "metadata": {},
     "output_type": "execute_result"
    }
   ],
   "source": [
    "df[categorical].isnull().sum()"
   ]
  },
  {
   "cell_type": "code",
   "execution_count": 101,
   "id": "8fcbc61f-15fb-4b68-87cd-b7c2c0887ce7",
   "metadata": {},
   "outputs": [
    {
     "data": {
      "text/plain": [
       "Index(['Record ID', 'Aircraft: Type', 'Airport: Name', 'Altitude bin',\n",
       "       'Aircraft: Make/Model', 'Wildlife: Number struck',\n",
       "       'Wildlife: Number Struck Actual', 'Effect: Impact to flight',\n",
       "       'FlightDate', 'Effect: Indicated Damage',\n",
       "       'Aircraft: Number of engines?', 'Aircraft: Airline/Operator',\n",
       "       'Origin State', 'When: Phase of flight', 'Conditions: Precipitation',\n",
       "       'Remains of wildlife collected?',\n",
       "       'Remains of wildlife sent to Smithsonian', 'Remarks', 'Wildlife: Size',\n",
       "       'Conditions: Sky', 'Wildlife: Species',\n",
       "       'Pilot warned of birds or wildlife?', 'Cost: Total $',\n",
       "       'Feet above ground', 'Number of people injured', 'Is Aircraft Large?'],\n",
       "      dtype='object')"
      ]
     },
     "execution_count": 101,
     "metadata": {},
     "output_type": "execute_result"
    }
   ],
   "source": [
    "df.columns"
   ]
  },
  {
   "cell_type": "code",
   "execution_count": 93,
   "id": "71a6569e-5923-4089-9e83-26808f456625",
   "metadata": {},
   "outputs": [],
   "source": [
    "df.reset_index(inplace = True)"
   ]
  },
  {
   "cell_type": "code",
   "execution_count": 95,
   "id": "84d35356-bbf2-4845-9169-a4d91bfd6932",
   "metadata": {},
   "outputs": [],
   "source": [
    "df.to_excel('Data Preprocessed_Birdstrike_Data.xlsx', index = False)"
   ]
  },
  {
   "cell_type": "code",
   "execution_count": null,
   "id": "026288c0-60c0-4898-b18a-b1dcc5f88adf",
   "metadata": {},
   "outputs": [],
   "source": []
  }
 ],
 "metadata": {
  "kernelspec": {
   "display_name": "Python 3 (ipykernel)",
   "language": "python",
   "name": "python3"
  },
  "language_info": {
   "codemirror_mode": {
    "name": "ipython",
    "version": 3
   },
   "file_extension": ".py",
   "mimetype": "text/x-python",
   "name": "python",
   "nbconvert_exporter": "python",
   "pygments_lexer": "ipython3",
   "version": "3.11.5"
  }
 },
 "nbformat": 4,
 "nbformat_minor": 5
}
